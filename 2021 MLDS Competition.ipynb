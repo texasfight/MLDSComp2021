{
 "cells": [
  {
   "cell_type": "markdown",
   "id": "twenty-somalia",
   "metadata": {},
   "source": [
    "# MLDS Spring 2021 Image Classification Competition"
   ]
  },
  {
   "cell_type": "markdown",
   "id": "intensive-above",
   "metadata": {},
   "source": [
    "Created by Irvin Shen"
   ]
  },
  {
   "cell_type": "markdown",
   "id": "eligible-contents",
   "metadata": {},
   "source": [
    "### Import Statements"
   ]
  },
  {
   "cell_type": "code",
   "execution_count": 1,
   "id": "timely-blackjack",
   "metadata": {},
   "outputs": [],
   "source": [
    "# Import libraries\n",
    "\n",
    "import numpy as np\n",
    "import pandas as pd\n",
    "import matplotlib.pyplot as plt\n",
    "\n",
    "# Scikit-learn imports\n",
    "from sklearn.svm import SVC\n",
    "from sklearn.pipeline import make_pipeline\n",
    "from sklearn.preprocessing import StandardScaler\n",
    "from sklearn.metrics import plot_confusion_matrix, precision_score, recall_score, accuracy_score\n",
    "from sklearn.model_selection import train_test_split\n",
    "from xgboost import XGBRFClassifier\n",
    "from sklearn.model_selection import GridSearchCV"
   ]
  },
  {
   "cell_type": "markdown",
   "id": "viral-material",
   "metadata": {},
   "source": [
    "### Import file and do some simple EDS"
   ]
  },
  {
   "cell_type": "code",
   "execution_count": 2,
   "id": "focal-fiber",
   "metadata": {},
   "outputs": [],
   "source": [
    "dfChar = pd.read_csv(\"./training_data.csv\")"
   ]
  },
  {
   "cell_type": "code",
   "execution_count": 3,
   "id": "auburn-tracy",
   "metadata": {},
   "outputs": [
    {
     "data": {
      "text/html": [
       "<div>\n",
       "<style scoped>\n",
       "    .dataframe tbody tr th:only-of-type {\n",
       "        vertical-align: middle;\n",
       "    }\n",
       "\n",
       "    .dataframe tbody tr th {\n",
       "        vertical-align: top;\n",
       "    }\n",
       "\n",
       "    .dataframe thead th {\n",
       "        text-align: right;\n",
       "    }\n",
       "</style>\n",
       "<table border=\"1\" class=\"dataframe\">\n",
       "  <thead>\n",
       "    <tr style=\"text-align: right;\">\n",
       "      <th></th>\n",
       "      <th>index</th>\n",
       "      <th>0</th>\n",
       "      <th>1</th>\n",
       "      <th>2</th>\n",
       "      <th>3</th>\n",
       "      <th>4</th>\n",
       "      <th>5</th>\n",
       "      <th>6</th>\n",
       "      <th>7</th>\n",
       "      <th>8</th>\n",
       "      <th>...</th>\n",
       "      <th>391</th>\n",
       "      <th>392</th>\n",
       "      <th>393</th>\n",
       "      <th>394</th>\n",
       "      <th>395</th>\n",
       "      <th>396</th>\n",
       "      <th>397</th>\n",
       "      <th>398</th>\n",
       "      <th>399</th>\n",
       "      <th>Y</th>\n",
       "    </tr>\n",
       "  </thead>\n",
       "  <tbody>\n",
       "    <tr>\n",
       "      <th>0</th>\n",
       "      <td>0</td>\n",
       "      <td>255</td>\n",
       "      <td>255</td>\n",
       "      <td>233</td>\n",
       "      <td>183</td>\n",
       "      <td>194</td>\n",
       "      <td>255</td>\n",
       "      <td>223</td>\n",
       "      <td>253</td>\n",
       "      <td>251</td>\n",
       "      <td>...</td>\n",
       "      <td>245</td>\n",
       "      <td>251</td>\n",
       "      <td>249</td>\n",
       "      <td>255</td>\n",
       "      <td>255</td>\n",
       "      <td>255</td>\n",
       "      <td>251</td>\n",
       "      <td>195</td>\n",
       "      <td>221</td>\n",
       "      <td>5</td>\n",
       "    </tr>\n",
       "    <tr>\n",
       "      <th>1</th>\n",
       "      <td>1</td>\n",
       "      <td>255</td>\n",
       "      <td>255</td>\n",
       "      <td>255</td>\n",
       "      <td>253</td>\n",
       "      <td>255</td>\n",
       "      <td>255</td>\n",
       "      <td>255</td>\n",
       "      <td>255</td>\n",
       "      <td>255</td>\n",
       "      <td>...</td>\n",
       "      <td>255</td>\n",
       "      <td>205</td>\n",
       "      <td>222</td>\n",
       "      <td>222</td>\n",
       "      <td>255</td>\n",
       "      <td>255</td>\n",
       "      <td>255</td>\n",
       "      <td>255</td>\n",
       "      <td>253</td>\n",
       "      <td>18</td>\n",
       "    </tr>\n",
       "    <tr>\n",
       "      <th>2</th>\n",
       "      <td>2</td>\n",
       "      <td>255</td>\n",
       "      <td>249</td>\n",
       "      <td>235</td>\n",
       "      <td>255</td>\n",
       "      <td>255</td>\n",
       "      <td>255</td>\n",
       "      <td>253</td>\n",
       "      <td>231</td>\n",
       "      <td>194</td>\n",
       "      <td>...</td>\n",
       "      <td>255</td>\n",
       "      <td>248</td>\n",
       "      <td>208</td>\n",
       "      <td>233</td>\n",
       "      <td>187</td>\n",
       "      <td>196</td>\n",
       "      <td>189</td>\n",
       "      <td>147</td>\n",
       "      <td>255</td>\n",
       "      <td>0</td>\n",
       "    </tr>\n",
       "    <tr>\n",
       "      <th>3</th>\n",
       "      <td>3</td>\n",
       "      <td>231</td>\n",
       "      <td>255</td>\n",
       "      <td>244</td>\n",
       "      <td>243</td>\n",
       "      <td>255</td>\n",
       "      <td>255</td>\n",
       "      <td>255</td>\n",
       "      <td>252</td>\n",
       "      <td>162</td>\n",
       "      <td>...</td>\n",
       "      <td>193</td>\n",
       "      <td>167</td>\n",
       "      <td>191</td>\n",
       "      <td>198</td>\n",
       "      <td>255</td>\n",
       "      <td>202</td>\n",
       "      <td>190</td>\n",
       "      <td>209</td>\n",
       "      <td>171</td>\n",
       "      <td>3</td>\n",
       "    </tr>\n",
       "    <tr>\n",
       "      <th>4</th>\n",
       "      <td>4</td>\n",
       "      <td>255</td>\n",
       "      <td>201</td>\n",
       "      <td>101</td>\n",
       "      <td>205</td>\n",
       "      <td>223</td>\n",
       "      <td>192</td>\n",
       "      <td>189</td>\n",
       "      <td>143</td>\n",
       "      <td>202</td>\n",
       "      <td>...</td>\n",
       "      <td>241</td>\n",
       "      <td>252</td>\n",
       "      <td>255</td>\n",
       "      <td>231</td>\n",
       "      <td>210</td>\n",
       "      <td>216</td>\n",
       "      <td>255</td>\n",
       "      <td>220</td>\n",
       "      <td>195</td>\n",
       "      <td>2</td>\n",
       "    </tr>\n",
       "  </tbody>\n",
       "</table>\n",
       "<p>5 rows × 402 columns</p>\n",
       "</div>"
      ],
      "text/plain": [
       "   index    0    1    2    3    4    5    6    7    8  ...  391  392  393  \\\n",
       "0      0  255  255  233  183  194  255  223  253  251  ...  245  251  249   \n",
       "1      1  255  255  255  253  255  255  255  255  255  ...  255  205  222   \n",
       "2      2  255  249  235  255  255  255  253  231  194  ...  255  248  208   \n",
       "3      3  231  255  244  243  255  255  255  252  162  ...  193  167  191   \n",
       "4      4  255  201  101  205  223  192  189  143  202  ...  241  252  255   \n",
       "\n",
       "   394  395  396  397  398  399   Y  \n",
       "0  255  255  255  251  195  221   5  \n",
       "1  222  255  255  255  255  253  18  \n",
       "2  233  187  196  189  147  255   0  \n",
       "3  198  255  202  190  209  171   3  \n",
       "4  231  210  216  255  220  195   2  \n",
       "\n",
       "[5 rows x 402 columns]"
      ]
     },
     "execution_count": 3,
     "metadata": {},
     "output_type": "execute_result"
    }
   ],
   "source": [
    "dfChar.head()"
   ]
  },
  {
   "cell_type": "code",
   "execution_count": 4,
   "id": "manual-mobility",
   "metadata": {},
   "outputs": [],
   "source": [
    "# Split df into target and features\n",
    "\n",
    "y = dfChar.Y\n",
    "X = dfChar.drop(\"Y\", axis=1)"
   ]
  },
  {
   "cell_type": "code",
   "execution_count": 5,
   "id": "changed-notebook",
   "metadata": {},
   "outputs": [],
   "source": [
    "X = X.drop(\"index\",axis=1)"
   ]
  },
  {
   "cell_type": "markdown",
   "id": "honey-shame",
   "metadata": {},
   "source": [
    "### Split data and create model, along with the hyperparameter tuner"
   ]
  },
  {
   "cell_type": "code",
   "execution_count": 6,
   "id": "irish-rider",
   "metadata": {},
   "outputs": [],
   "source": [
    "train_X, test_X, train_y, test_y = train_test_split(X, y, random_state=1, train_size=.8)"
   ]
  },
  {
   "cell_type": "code",
   "execution_count": 7,
   "id": "meaningful-literacy",
   "metadata": {},
   "outputs": [],
   "source": [
    "model = make_pipeline(StandardScaler(), SVC(shrinking=True), verbose=True)"
   ]
  },
  {
   "cell_type": "code",
   "execution_count": 10,
   "id": "earned-smooth",
   "metadata": {},
   "outputs": [
    {
     "data": {
      "text/plain": [
       "dict_keys(['memory', 'steps', 'verbose', 'standardscaler', 'svc', 'standardscaler__copy', 'standardscaler__with_mean', 'standardscaler__with_std', 'svc__C', 'svc__break_ties', 'svc__cache_size', 'svc__class_weight', 'svc__coef0', 'svc__decision_function_shape', 'svc__degree', 'svc__gamma', 'svc__kernel', 'svc__max_iter', 'svc__probability', 'svc__random_state', 'svc__shrinking', 'svc__tol', 'svc__verbose'])"
      ]
     },
     "execution_count": 10,
     "metadata": {},
     "output_type": "execute_result"
    }
   ],
   "source": [
    "model.get_params().keys()"
   ]
  },
  {
   "cell_type": "markdown",
   "id": "inclusive-convergence",
   "metadata": {},
   "source": [
    "Previous testing showed that the gamma and kernel performed better when left as default."
   ]
  },
  {
   "cell_type": "code",
   "execution_count": 8,
   "id": "handy-benjamin",
   "metadata": {},
   "outputs": [],
   "source": [
    "params = {\"svc__C\": [1, 5, 10, 100]}"
   ]
  },
  {
   "cell_type": "code",
   "execution_count": 9,
   "id": "cathedral-services",
   "metadata": {},
   "outputs": [],
   "source": [
    "search = GridSearchCV(model, params, n_jobs=-1, verbose=True, cv=3)"
   ]
  },
  {
   "cell_type": "markdown",
   "id": "affiliated-break",
   "metadata": {},
   "source": [
    "### Fit the model and tune the hyperparameters"
   ]
  },
  {
   "cell_type": "code",
   "execution_count": 11,
   "id": "arctic-sympathy",
   "metadata": {},
   "outputs": [
    {
     "name": "stdout",
     "output_type": "stream",
     "text": [
      "Fitting 3 folds for each of 4 candidates, totalling 12 fits\n"
     ]
    },
    {
     "name": "stderr",
     "output_type": "stream",
     "text": [
      "C:\\Users\\irvin\\anaconda3\\lib\\site-packages\\sklearn\\model_selection\\_split.py:670: UserWarning: The least populated class in y has only 1 members, which is less than n_splits=3.\n",
      "  warnings.warn((\"The least populated class in y has only %d\"\n",
      "[Parallel(n_jobs=-1)]: Using backend LokyBackend with 12 concurrent workers.\n",
      "[Parallel(n_jobs=-1)]: Done   2 out of  12 | elapsed:  5.6min remaining: 28.1min\n",
      "[Parallel(n_jobs=-1)]: Done  12 out of  12 | elapsed:  6.5min finished\n"
     ]
    },
    {
     "name": "stdout",
     "output_type": "stream",
     "text": [
      "[Pipeline] .... (step 1 of 2) Processing standardscaler, total=   0.1s\n",
      "[Pipeline] ............... (step 2 of 2) Processing svc, total= 2.9min\n"
     ]
    },
    {
     "data": {
      "text/plain": [
       "GridSearchCV(cv=3,\n",
       "             estimator=Pipeline(steps=[('standardscaler', StandardScaler()),\n",
       "                                       ('svc', SVC())],\n",
       "                                verbose=True),\n",
       "             n_jobs=-1, param_grid={'svc__C': [1, 5, 10, 100]}, verbose=True)"
      ]
     },
     "execution_count": 11,
     "metadata": {},
     "output_type": "execute_result"
    }
   ],
   "source": [
    "search.fit(train_X, train_y)"
   ]
  },
  {
   "cell_type": "code",
   "execution_count": 12,
   "id": "ongoing-investigator",
   "metadata": {},
   "outputs": [],
   "source": [
    "preds = search.predict(test_X)"
   ]
  },
  {
   "cell_type": "code",
   "execution_count": 13,
   "id": "abandoned-affiliate",
   "metadata": {},
   "outputs": [
    {
     "data": {
      "text/plain": [
       "0.5723331709693132"
      ]
     },
     "execution_count": 13,
     "metadata": {},
     "output_type": "execute_result"
    }
   ],
   "source": [
    "accuracy_score(preds, test_y)"
   ]
  },
  {
   "cell_type": "markdown",
   "id": "soviet-gallery",
   "metadata": {},
   "source": [
    "### Our model isn't very accurate, but I'm not sure I can get much more out of it just using SVC"
   ]
  },
  {
   "cell_type": "code",
   "execution_count": 14,
   "id": "wicked-student",
   "metadata": {},
   "outputs": [],
   "source": [
    "dfFinal = pd.read_csv(\"./predictions.csv\")"
   ]
  },
  {
   "cell_type": "code",
   "execution_count": 15,
   "id": "lightweight-snapshot",
   "metadata": {},
   "outputs": [],
   "source": [
    "dfFinal_noindex = dfFinal.drop(\"index\", axis=1)"
   ]
  },
  {
   "cell_type": "code",
   "execution_count": 16,
   "id": "widespread-pillow",
   "metadata": {},
   "outputs": [],
   "source": [
    "final_preds = pd.DataFrame()"
   ]
  },
  {
   "cell_type": "code",
   "execution_count": 19,
   "id": "virgin-terrorism",
   "metadata": {},
   "outputs": [],
   "source": [
    "final_preds[\"Category\"] = search.predict(dfFinal_noindex)"
   ]
  },
  {
   "cell_type": "code",
   "execution_count": 20,
   "id": "joint-hydrogen",
   "metadata": {},
   "outputs": [],
   "source": [
    "final_preds.index.name = \"Id\""
   ]
  },
  {
   "cell_type": "code",
   "execution_count": 22,
   "id": "hungry-browser",
   "metadata": {},
   "outputs": [],
   "source": [
    "final_preds.to_csv(\"final_predictions.csv\")"
   ]
  },
  {
   "cell_type": "code",
   "execution_count": 28,
   "id": "after-range",
   "metadata": {},
   "outputs": [
    {
     "data": {
      "text/plain": [
       "0.49488553336580615"
      ]
     },
     "execution_count": 28,
     "metadata": {},
     "output_type": "execute_result"
    }
   ],
   "source": [
    "from sklearn.neural_network import MLPClassifier\n",
    "\n",
    "mlpModel = make_pipeline(StandardScaler(), MLPClassifier())\n",
    "mlpModel.fit(train_X, train_y)\n",
    "mlpPreds = mlpModel.predict(test_X)\n",
    "accuracy_score(mlpPreds, test_y)"
   ]
  },
  {
   "cell_type": "code",
   "execution_count": null,
   "id": "entire-lease",
   "metadata": {},
   "outputs": [],
   "source": []
  }
 ],
 "metadata": {
  "kernelspec": {
   "display_name": "Python 3",
   "language": "python",
   "name": "python3"
  },
  "language_info": {
   "codemirror_mode": {
    "name": "ipython",
    "version": 3
   },
   "file_extension": ".py",
   "mimetype": "text/x-python",
   "name": "python",
   "nbconvert_exporter": "python",
   "pygments_lexer": "ipython3",
   "version": "3.8.5"
  }
 },
 "nbformat": 4,
 "nbformat_minor": 5
}
